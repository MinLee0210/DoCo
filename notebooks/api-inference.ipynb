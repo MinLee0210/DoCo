{
 "cells": [
  {
   "cell_type": "markdown",
   "metadata": {},
   "source": [
    "# Unlocking the Power of AI with Hugging Face API-Inference: Your Gateway to Cutting-Edge Models\n",
    "\n",
    "Imagine having a vast library of the world's most advanced AI models at your fingertips, ready to tackle your unique tasks with just a few lines of code. That's precisely what the Hugging Face API-Inference offers, empowering you to harness the power of machine learning without the complexities of training and infrastructure.\n",
    "\n",
    "Here's a closer look at its key features:\n",
    "\n",
    "1. A Universe of Possibilities:\n",
    "- Access over 48,000 pre-trained models for diverse tasks, including:\n",
    "- Natural language processing (NLP): text generation, translation, question answering, summarization, sentiment analysis, and more.\n",
    "- Computer vision (CV): image classification, object detection, segmentation, and more.\n",
    "- Audio processing: speech recognition, speaker identification, music generation, and more.\n",
    "- Explore models from leading research institutions, companies, and individuals, continuously expanding the boundaries of AI capabilities.\n",
    "\n",
    "2. Effortless Integration:\n",
    "- Integrate these models seamlessly into your applications and workflows through a user-friendly API.\n",
    "- Use familiar programming languages like Python, JavaScript, or access it directly through a web browser.\n",
    "- No need to worry about setup, configuration, or infrastructure management—the API handles it all for you.\n",
    "\n",
    "3. Blazing-Fast Performance:\n",
    "- Benefit from optimized model serving and hardware acceleration for lightning-fast responses.\n",
    "- Get results in milliseconds, even for complex tasks, enabling real-time applications and interactive experiences.\n",
    "\n",
    "4. Customization and Flexibility:\n",
    "- Fine-tune existing models to align perfectly with your specific domain or task requirements.\n",
    "- Deploy your own custom-trained models on the API for easy sharing and collaboration.\n",
    "- Choose from various deployment options, including cloud-based, on-premises, or hybrid solutions to suit your needs.\n",
    "\n",
    "5. Scalability and Reliability:\n",
    "- Handle large workloads and high traffic with ease, ensuring consistent performance and availability.\n",
    "- Benefit from Hugging Face's robust infrastructure and expertise in scaling AI applications.\n",
    "\n",
    "Unlock the Potential:\n",
    "\n",
    "Whether you're a developer building innovative applications, a researcher exploring new frontiers in AI, or a business seeking to enhance its operations, the Hugging Face API-Inference offers an unparalleled gateway to the transformative power of machine learning. Start experimenting today and experience the limitless possibilities at your fingertips!"
   ]
  },
  {
   "cell_type": "code",
   "execution_count": 16,
   "metadata": {},
   "outputs": [],
   "source": [
    "import requests\n",
    "model_id = \"transformer3/H2-keywordextractor\" # https://huggingface.co/facebook/bart-large-cnn\n",
    "API_TOKEN = \"...\" # Replace your api_token here\n",
    "headers = {\"Authorization\": f\"Bearer {API_TOKEN}\"}\n",
    "API_URL = f\"https://api-inference.huggingface.co/models/{model_id}\"\n",
    "\n",
    "def query(payload):\n",
    "    response = requests.post(API_URL, headers=headers, json=payload)\n",
    "    return response.json()"
   ]
  },
  {
   "cell_type": "code",
   "execution_count": 17,
   "metadata": {},
   "outputs": [],
   "source": [
    "text = \"\"\"\n",
    "There are 2 main schools in this interesting field:\n",
    "Extractive approach: this approach is a technique for creating summaries of texts by selecting and combining existing sentences from the original document. These sentences are chosen based on their relevance and importance to the overall theme of the text. In other words, Extractive summarization picks out the most important pieces of information from each document and puts them together to create a concise overview of the entire topic. Here are some key features of extractive summarization:\n",
    "Simple and efficient: It's relatively easy to implement and works well on short texts.\n",
    "Preserves factual accuracy: The sentences are taken directly from the source text, so they are guaranteed to be factual.\n",
    "Maintains coherence: By selecting sentences that are close together in the original text, the summary generally flows smoothly.\n",
    "May lack originality: The summary may not contain any new insights or ideas, as it simply reflects the content of the original text.\n",
    "Potentially misses key points: If important information is not contained in complete sentences, it may be missed by the summarization process.\n",
    "\n",
    "Abstractive approach: this approach is a sophisticated approach to summarizing text that takes things a step further than its extractive counterpart. Instead of simply picking and choosing existing sentences, it delves deeper, understanding the main ideas and concepts of the original text, and then rephrases them in its own words, creating a concise and informative summary. Here are some key features of abstractive summarization:\n",
    "Highly insightful: Can capture the main ideas and concepts beyond the surface level of the text, providing deeper understanding.\n",
    "More concise: Often produces shorter summaries compared to extractive methods, focusing on the most essential information.\n",
    "Original and creative: Generates new sentences and phrases, potentially expressing insights not explicitly stated in the source text.\n",
    "More complex to implement: Requires advanced models and training techniques, typically involving deep learning methods like neural networks.\n",
    "May introduce potential inaccuracies: The generated text, while creative, can deviate from the factual content of the original source.\n",
    "\n",
    "Comparing to our daily life, we can see that we tend to do extractive summarize whenever a job requires the task. For instance, we have to do research for our companies. We want the research to be done as fast as possible but also be concise. Therefore, we would look up multiple available resources and search for the most valuable information. Practicing abstractive approach requires more than that. This is due to the fact that abstractive summarization techniques handle issues that data-driven techniques like sentence extraction find easier to handle, such as semantic representation, inference, and natural language production.\n",
    "\"\"\""
   ]
  },
  {
   "cell_type": "code",
   "execution_count": null,
   "metadata": {},
   "outputs": [],
   "source": [
    "text_01 = \"\"\"\n",
    "Hugging Face: Revolutionizing Natural Language Processing\n",
    "Introduction\n",
    "In the rapidly evolving field of Natural Language Processing (NLP), Hugging Face has emerged as a prominent and innovative force. This article will explore the story and significance of Hugging Face, a company that has made remarkable contributions to NLP and AI as a whole. From its inception to its role in democratizing AI, Hugging Face has left an indelible mark on the industry.\n",
    "The Birth of Hugging Face\n",
    "Hugging Face was founded in 2016 by Clément Delangue, Julien Chaumond, and Thomas Wolf. The name \"Hugging Face\" was chosen to reflect the company's mission of making AI models more accessible and friendly to humans, much like a comforting hug. Initially, they began as a chatbot company but later shifted their focus to NLP, driven by their belief in the transformative potential of this technology.\n",
    "Transformative Innovations\n",
    "Hugging Face is best known for its open-source contributions, particularly the \"Transformers\" library. This library has become the de facto standard for NLP and enables researchers, developers, and organizations to easily access and utilize state-of-the-art pre-trained language models, such as BERT, GPT-3, and more. These models have countless applications, from chatbots and virtual assistants to language translation and sentiment analysis.\n",
    "Key Contributions:\n",
    "1. **Transformers Library:** The Transformers library provides a unified interface for more than 50 pre-trained models, simplifying the development of NLP applications. It allows users to fine-tune these models for specific tasks, making it accessible to a wider audience.\n",
    "2. **Model Hub:** Hugging Face's Model Hub is a treasure trove of pre-trained models, making it simple for anyone to access, experiment with, and fine-tune models. Researchers and developers around the world can collaborate and share their models through this platform.\n",
    "3. **Hugging Face Transformers Community:** Hugging Face has fostered a vibrant online community where developers, researchers, and AI enthusiasts can share their knowledge, code, and insights. This collaborative spirit has accelerated the growth of NLP.\n",
    "Democratizing AI\n",
    "Hugging Face's most significant impact has been the democratization of AI and NLP. Their commitment to open-source development has made powerful AI models accessible to individuals, startups, and established organizations. This approach contrasts with the traditional proprietary AI model market, which often limits access to those with substantial resources.\n",
    "By providing open-source models and tools, Hugging Face has empowered a diverse array of users to innovate and create their own NLP applications. This shift has fostered inclusivity, allowing a broader range of voices to contribute to AI research and development.\n",
    "Industry Adoption\n",
    "The success and impact of Hugging Face are evident in its widespread adoption. Numerous companies and institutions, from startups to tech giants, leverage Hugging Face's technology for their AI applications. This includes industries as varied as healthcare, finance, and entertainment, showcasing the versatility of NLP and Hugging Face's contributions.\n",
    "Future Directions\n",
    "Hugging Face's journey is far from over. As of my last knowledge update in September 2021, the company was actively pursuing research into ethical AI, bias reduction in models, and more. Given their track record of innovation and commitment to the AI community, it is likely that they will continue to lead in ethical AI development and promote responsible use of NLP technologies.\n",
    "Conclusion\n",
    "Hugging Face's story is one of transformation, collaboration, and empowerment. Their open-source contributions have reshaped the NLP landscape and democratized access to AI. As they continue to push the boundaries of AI research, we can expect Hugging Face to remain at the forefront of innovation, contributing to a more inclusive and ethical AI future. Their journey reminds us that the power of open-source collaboration can lead to groundbreaking advancements in technology and bring AI within the reach of many.\n",
    "\"\"\""
   ]
  },
  {
   "cell_type": "code",
   "execution_count": 18,
   "metadata": {},
   "outputs": [
    {
     "data": {
      "text/plain": [
       "[{'summary_text': 'probabilistic reasoning,  information processing,  data analysis,  summarization,  extractive approach,  originality,  abstractive approach'}]"
      ]
     },
     "execution_count": 18,
     "metadata": {},
     "output_type": "execute_result"
    }
   ],
   "source": [
    "data = query(\n",
    "    {\n",
    "        \"inputs\": text,\n",
    "        \"parameters\": {\"do_sample\": False},\n",
    "        \"options\": {\"wait_for_model\": True}\n",
    "    }\n",
    ")\n",
    "\n",
    "data"
   ]
  },
  {
   "cell_type": "code",
   "execution_count": 25,
   "metadata": {},
   "outputs": [
    {
     "data": {
      "text/plain": [
       "['probabilistic reasoning',\n",
       " 'information processing',\n",
       " 'data analysis',\n",
       " 'summarization',\n",
       " 'extractive approach',\n",
       " 'originality',\n",
       " 'abstractive approach']"
      ]
     },
     "execution_count": 25,
     "metadata": {},
     "output_type": "execute_result"
    }
   ],
   "source": [
    "generated_sample = data[0]['summary_text']\n",
    "generated_sample.split(',  ')"
   ]
  }
 ],
 "metadata": {
  "kernelspec": {
   "display_name": "risen",
   "language": "python",
   "name": "python3"
  },
  "language_info": {
   "codemirror_mode": {
    "name": "ipython",
    "version": 3
   },
   "file_extension": ".py",
   "mimetype": "text/x-python",
   "name": "python",
   "nbconvert_exporter": "python",
   "pygments_lexer": "ipython3",
   "version": "3.11.5"
  }
 },
 "nbformat": 4,
 "nbformat_minor": 2
}
